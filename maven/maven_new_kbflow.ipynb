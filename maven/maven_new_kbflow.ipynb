{
 "cells": [
  {
   "cell_type": "code",
   "execution_count": 1,
   "metadata": {},
   "outputs": [
    {
     "name": "stdout",
     "output_type": "stream",
     "text": [
      "Requirement already satisfied: pip in /home/jovyan/.local/lib/python3.6/site-packages (20.3.3)\n",
      "WARNING: pip is being invoked by an old script wrapper. This will fail in a future version of pip.\n",
      "Please see https://github.com/pypa/pip/issues/5599 for advice on fixing the underlying issue.\n",
      "To avoid this problem you can invoke Python with '-m pip' instead of running pip directly.\n",
      "Requirement already satisfied: pandas in /home/jovyan/.local/lib/python3.6/site-packages (1.1.5)\n",
      "Requirement already satisfied: matplotlib in /home/jovyan/.local/lib/python3.6/site-packages (3.3.3)\n",
      "Requirement already satisfied: numpy in /home/jovyan/.local/lib/python3.6/site-packages (1.19.5)\n",
      "Requirement already satisfied: scikit-learn in /home/jovyan/.local/lib/python3.6/site-packages (0.24.0)\n",
      "Requirement already satisfied: tensorflow in /home/jovyan/.local/lib/python3.6/site-packages (2.4.0)\n",
      "Requirement already satisfied: keras in /home/jovyan/.local/lib/python3.6/site-packages (2.4.3)\n",
      "Requirement already satisfied: pyyaml in /usr/local/lib/python3.6/dist-packages (from keras) (5.3)\n",
      "Requirement already satisfied: h5py in /usr/local/lib/python3.6/dist-packages (from keras) (2.10.0)\n",
      "Requirement already satisfied: scipy>=0.14 in /usr/local/lib/python3.6/dist-packages (from keras) (1.4.1)\n",
      "Requirement already satisfied: kiwisolver>=1.0.1 in /usr/local/lib/python3.6/dist-packages (from matplotlib) (1.1.0)\n",
      "Requirement already satisfied: cycler>=0.10 in /usr/local/lib/python3.6/dist-packages (from matplotlib) (0.10.0)\n",
      "Requirement already satisfied: pyparsing!=2.0.4,!=2.1.2,!=2.1.6,>=2.0.3 in /usr/local/lib/python3.6/dist-packages (from matplotlib) (2.4.6)\n",
      "Requirement already satisfied: pillow>=6.2.0 in /home/jovyan/.local/lib/python3.6/site-packages (from matplotlib) (8.1.0)\n",
      "Requirement already satisfied: python-dateutil>=2.1 in /usr/local/lib/python3.6/dist-packages (from matplotlib) (2.8.1)\n",
      "Requirement already satisfied: six in /home/jovyan/.local/lib/python3.6/site-packages (from cycler>=0.10->matplotlib) (1.15.0)\n",
      "Requirement already satisfied: setuptools in /usr/local/lib/python3.6/dist-packages (from kiwisolver>=1.0.1->matplotlib) (44.0.0)\n",
      "Requirement already satisfied: pytz>=2017.2 in /usr/local/lib/python3.6/dist-packages (from pandas) (2019.3)\n",
      "Requirement already satisfied: threadpoolctl>=2.0.0 in /home/jovyan/.local/lib/python3.6/site-packages (from scikit-learn) (2.1.0)\n",
      "Requirement already satisfied: joblib>=0.11 in /home/jovyan/.local/lib/python3.6/site-packages (from scikit-learn) (1.0.0)\n",
      "Requirement already satisfied: wheel~=0.35 in /home/jovyan/.local/lib/python3.6/site-packages (from tensorflow) (0.36.2)\n",
      "Requirement already satisfied: tensorflow-estimator<2.5.0,>=2.4.0rc0 in /home/jovyan/.local/lib/python3.6/site-packages (from tensorflow) (2.4.0)\n",
      "Requirement already satisfied: typing-extensions~=3.7.4 in /home/jovyan/.local/lib/python3.6/site-packages (from tensorflow) (3.7.4.3)\n",
      "Requirement already satisfied: tensorboard~=2.4 in /home/jovyan/.local/lib/python3.6/site-packages (from tensorflow) (2.4.0)\n",
      "Requirement already satisfied: termcolor~=1.1.0 in /usr/local/lib/python3.6/dist-packages (from tensorflow) (1.1.0)\n",
      "Requirement already satisfied: google-pasta~=0.2 in /home/jovyan/.local/lib/python3.6/site-packages (from tensorflow) (0.2.0)\n",
      "Requirement already satisfied: wrapt~=1.12.1 in /home/jovyan/.local/lib/python3.6/site-packages (from tensorflow) (1.12.1)\n",
      "Requirement already satisfied: absl-py~=0.10 in /home/jovyan/.local/lib/python3.6/site-packages (from tensorflow) (0.11.0)\n",
      "Requirement already satisfied: keras-preprocessing~=1.1.2 in /home/jovyan/.local/lib/python3.6/site-packages (from tensorflow) (1.1.2)\n",
      "Requirement already satisfied: astunparse~=1.6.3 in /home/jovyan/.local/lib/python3.6/site-packages (from tensorflow) (1.6.3)\n",
      "Requirement already satisfied: opt-einsum~=3.3.0 in /home/jovyan/.local/lib/python3.6/site-packages (from tensorflow) (3.3.0)\n",
      "Requirement already satisfied: protobuf>=3.9.2 in /usr/local/lib/python3.6/dist-packages (from tensorflow) (3.11.2)\n",
      "Requirement already satisfied: gast==0.3.3 in /home/jovyan/.local/lib/python3.6/site-packages (from tensorflow) (0.3.3)\n",
      "Requirement already satisfied: grpcio~=1.32.0 in /home/jovyan/.local/lib/python3.6/site-packages (from tensorflow) (1.32.0)\n",
      "Requirement already satisfied: flatbuffers~=1.12.0 in /home/jovyan/.local/lib/python3.6/site-packages (from tensorflow) (1.12)\n",
      "Requirement already satisfied: werkzeug>=0.11.15 in /usr/local/lib/python3.6/dist-packages (from tensorboard~=2.4->tensorflow) (0.16.0)\n",
      "Requirement already satisfied: google-auth<2,>=1.6.3 in /usr/local/lib/python3.6/dist-packages (from tensorboard~=2.4->tensorflow) (1.10.0)\n",
      "Requirement already satisfied: markdown>=2.6.8 in /usr/local/lib/python3.6/dist-packages (from tensorboard~=2.4->tensorflow) (3.1.1)\n",
      "Requirement already satisfied: requests<3,>=2.21.0 in /usr/local/lib/python3.6/dist-packages (from tensorboard~=2.4->tensorflow) (2.22.0)\n",
      "Requirement already satisfied: tensorboard-plugin-wit>=1.6.0 in /home/jovyan/.local/lib/python3.6/site-packages (from tensorboard~=2.4->tensorflow) (1.7.0)\n",
      "Requirement already satisfied: google-auth-oauthlib<0.5,>=0.4.1 in /usr/local/lib/python3.6/dist-packages (from tensorboard~=2.4->tensorflow) (0.4.1)\n",
      "Requirement already satisfied: cachetools<5.0,>=2.0.0 in /usr/local/lib/python3.6/dist-packages (from google-auth<2,>=1.6.3->tensorboard~=2.4->tensorflow) (4.0.0)\n",
      "Requirement already satisfied: pyasn1-modules>=0.2.1 in /usr/local/lib/python3.6/dist-packages (from google-auth<2,>=1.6.3->tensorboard~=2.4->tensorflow) (0.2.8)\n",
      "Requirement already satisfied: rsa<4.1,>=3.1.4 in /usr/local/lib/python3.6/dist-packages (from google-auth<2,>=1.6.3->tensorboard~=2.4->tensorflow) (4.0)\n",
      "Requirement already satisfied: requests-oauthlib>=0.7.0 in /usr/local/lib/python3.6/dist-packages (from google-auth-oauthlib<0.5,>=0.4.1->tensorboard~=2.4->tensorflow) (1.3.0)\n",
      "Requirement already satisfied: pyasn1<0.5.0,>=0.4.6 in /usr/local/lib/python3.6/dist-packages (from pyasn1-modules>=0.2.1->google-auth<2,>=1.6.3->tensorboard~=2.4->tensorflow) (0.4.8)\n",
      "Requirement already satisfied: certifi>=2017.4.17 in /usr/local/lib/python3.6/dist-packages (from requests<3,>=2.21.0->tensorboard~=2.4->tensorflow) (2019.11.28)\n",
      "Requirement already satisfied: urllib3!=1.25.0,!=1.25.1,<1.26,>=1.21.1 in /usr/local/lib/python3.6/dist-packages (from requests<3,>=2.21.0->tensorboard~=2.4->tensorflow) (1.25.7)\n",
      "Requirement already satisfied: idna<2.9,>=2.5 in /usr/lib/python3/dist-packages (from requests<3,>=2.21.0->tensorboard~=2.4->tensorflow) (2.6)\n",
      "Requirement already satisfied: chardet<3.1.0,>=3.0.2 in /usr/local/lib/python3.6/dist-packages (from requests<3,>=2.21.0->tensorboard~=2.4->tensorflow) (3.0.4)\n",
      "Requirement already satisfied: oauthlib>=3.0.0 in /usr/local/lib/python3.6/dist-packages (from requests-oauthlib>=0.7.0->google-auth-oauthlib<0.5,>=0.4.1->tensorboard~=2.4->tensorflow) (3.1.0)\n"
     ]
    }
   ],
   "source": [
    "!python -m pip install --user --upgrade pip\n",
    "!pip install --user --upgrade pandas matplotlib numpy scikit-learn tensorflow keras"
   ]
  },
  {
   "cell_type": "code",
   "execution_count": 2,
   "metadata": {},
   "outputs": [
    {
     "name": "stdout",
     "output_type": "stream",
     "text": [
      "WARNING: pip is being invoked by an old script wrapper. This will fail in a future version of pip.\n",
      "Please see https://github.com/pypa/pip/issues/5599 for advice on fixing the underlying issue.\n",
      "To avoid this problem you can invoke Python with '-m pip' instead of running pip directly.\n",
      "Requirement already satisfied: kfp in /home/jovyan/.local/lib/python3.6/site-packages (1.2.0)\n",
      "Requirement already satisfied: google-auth>=1.6.1 in /usr/local/lib/python3.6/dist-packages (from kfp) (1.10.0)\n",
      "Requirement already satisfied: kfp-pipeline-spec<0.2.0,>=0.1.0 in /home/jovyan/.local/lib/python3.6/site-packages (from kfp) (0.1.3.1)\n",
      "Requirement already satisfied: tabulate in /home/jovyan/.local/lib/python3.6/site-packages (from kfp) (0.8.7)\n",
      "Requirement already satisfied: google-cloud-storage>=1.13.0 in /usr/local/lib/python3.6/dist-packages (from kfp) (1.25.0)\n",
      "Requirement already satisfied: jsonschema>=3.0.1 in /usr/local/lib/python3.6/dist-packages (from kfp) (3.2.0)\n",
      "Requirement already satisfied: docstring-parser>=0.7.3 in /home/jovyan/.local/lib/python3.6/site-packages (from kfp) (0.7.3)\n",
      "Requirement already satisfied: kubernetes<12.0.0,>=8.0.0 in /usr/local/lib/python3.6/dist-packages (from kfp) (10.0.1)\n",
      "Requirement already satisfied: PyYAML in /usr/local/lib/python3.6/dist-packages (from kfp) (5.3)\n",
      "Requirement already satisfied: click in /home/jovyan/.local/lib/python3.6/site-packages (from kfp) (7.1.2)\n",
      "Requirement already satisfied: Deprecated in /home/jovyan/.local/lib/python3.6/site-packages (from kfp) (1.2.10)\n",
      "Requirement already satisfied: strip-hints in /home/jovyan/.local/lib/python3.6/site-packages (from kfp) (0.1.9)\n",
      "Requirement already satisfied: kfp-server-api<2.0.0,>=1.1.2 in /home/jovyan/.local/lib/python3.6/site-packages (from kfp) (1.2.0)\n",
      "Requirement already satisfied: requests-toolbelt>=0.8.0 in /home/jovyan/.local/lib/python3.6/site-packages (from kfp) (0.9.1)\n",
      "Requirement already satisfied: cloudpickle in /usr/local/lib/python3.6/dist-packages (from kfp) (1.2.2)\n",
      "Requirement already satisfied: setuptools>=40.3.0 in /usr/local/lib/python3.6/dist-packages (from google-auth>=1.6.1->kfp) (44.0.0)\n",
      "Requirement already satisfied: rsa<4.1,>=3.1.4 in /usr/local/lib/python3.6/dist-packages (from google-auth>=1.6.1->kfp) (4.0)\n",
      "Requirement already satisfied: cachetools<5.0,>=2.0.0 in /usr/local/lib/python3.6/dist-packages (from google-auth>=1.6.1->kfp) (4.0.0)\n",
      "Requirement already satisfied: six>=1.9.0 in /home/jovyan/.local/lib/python3.6/site-packages (from google-auth>=1.6.1->kfp) (1.15.0)\n",
      "Requirement already satisfied: pyasn1-modules>=0.2.1 in /usr/local/lib/python3.6/dist-packages (from google-auth>=1.6.1->kfp) (0.2.8)\n",
      "Requirement already satisfied: google-cloud-core<2.0dev,>=1.2.0 in /usr/local/lib/python3.6/dist-packages (from google-cloud-storage>=1.13.0->kfp) (1.3.0)\n",
      "Requirement already satisfied: google-resumable-media<0.6dev,>=0.5.0 in /usr/local/lib/python3.6/dist-packages (from google-cloud-storage>=1.13.0->kfp) (0.5.0)\n",
      "Requirement already satisfied: google-api-core<2.0.0dev,>=1.16.0 in /usr/local/lib/python3.6/dist-packages (from google-cloud-core<2.0dev,>=1.2.0->google-cloud-storage>=1.13.0->kfp) (1.16.0)\n",
      "Requirement already satisfied: googleapis-common-protos<2.0dev,>=1.6.0 in /usr/local/lib/python3.6/dist-packages (from google-api-core<2.0.0dev,>=1.16.0->google-cloud-core<2.0dev,>=1.2.0->google-cloud-storage>=1.13.0->kfp) (1.51.0)\n",
      "Requirement already satisfied: protobuf>=3.4.0 in /usr/local/lib/python3.6/dist-packages (from google-api-core<2.0.0dev,>=1.16.0->google-cloud-core<2.0dev,>=1.2.0->google-cloud-storage>=1.13.0->kfp) (3.11.2)\n",
      "Requirement already satisfied: requests<3.0.0dev,>=2.18.0 in /usr/local/lib/python3.6/dist-packages (from google-api-core<2.0.0dev,>=1.16.0->google-cloud-core<2.0dev,>=1.2.0->google-cloud-storage>=1.13.0->kfp) (2.22.0)\n",
      "Requirement already satisfied: pytz in /usr/local/lib/python3.6/dist-packages (from google-api-core<2.0.0dev,>=1.16.0->google-cloud-core<2.0dev,>=1.2.0->google-cloud-storage>=1.13.0->kfp) (2019.3)\n",
      "Requirement already satisfied: importlib-metadata in /usr/local/lib/python3.6/dist-packages (from jsonschema>=3.0.1->kfp) (1.4.0)\n",
      "Requirement already satisfied: attrs>=17.4.0 in /usr/local/lib/python3.6/dist-packages (from jsonschema>=3.0.1->kfp) (19.3.0)\n",
      "Requirement already satisfied: pyrsistent>=0.14.0 in /usr/local/lib/python3.6/dist-packages (from jsonschema>=3.0.1->kfp) (0.15.7)\n",
      "Requirement already satisfied: python-dateutil in /usr/local/lib/python3.6/dist-packages (from kfp-server-api<2.0.0,>=1.1.2->kfp) (2.8.1)\n",
      "Requirement already satisfied: certifi in /usr/local/lib/python3.6/dist-packages (from kfp-server-api<2.0.0,>=1.1.2->kfp) (2019.11.28)\n",
      "Requirement already satisfied: urllib3>=1.15 in /usr/local/lib/python3.6/dist-packages (from kfp-server-api<2.0.0,>=1.1.2->kfp) (1.25.7)\n",
      "Requirement already satisfied: websocket-client!=0.40.0,!=0.41.*,!=0.42.*,>=0.32.0 in /usr/local/lib/python3.6/dist-packages (from kubernetes<12.0.0,>=8.0.0->kfp) (0.57.0)\n",
      "Requirement already satisfied: requests-oauthlib in /usr/local/lib/python3.6/dist-packages (from kubernetes<12.0.0,>=8.0.0->kfp) (1.3.0)\n",
      "Requirement already satisfied: pyasn1<0.5.0,>=0.4.6 in /usr/local/lib/python3.6/dist-packages (from pyasn1-modules>=0.2.1->google-auth>=1.6.1->kfp) (0.4.8)\n",
      "Requirement already satisfied: chardet<3.1.0,>=3.0.2 in /usr/local/lib/python3.6/dist-packages (from requests<3.0.0dev,>=2.18.0->google-api-core<2.0.0dev,>=1.16.0->google-cloud-core<2.0dev,>=1.2.0->google-cloud-storage>=1.13.0->kfp) (3.0.4)\n",
      "Requirement already satisfied: idna<2.9,>=2.5 in /usr/lib/python3/dist-packages (from requests<3.0.0dev,>=2.18.0->google-api-core<2.0.0dev,>=1.16.0->google-cloud-core<2.0dev,>=1.2.0->google-cloud-storage>=1.13.0->kfp) (2.6)\n",
      "Requirement already satisfied: wrapt<2,>=1.10 in /home/jovyan/.local/lib/python3.6/site-packages (from Deprecated->kfp) (1.12.1)\n",
      "Requirement already satisfied: zipp>=0.5 in /usr/local/lib/python3.6/dist-packages (from importlib-metadata->jsonschema>=3.0.1->kfp) (0.6.0)\n",
      "Requirement already satisfied: more-itertools in /usr/local/lib/python3.6/dist-packages (from zipp>=0.5->importlib-metadata->jsonschema>=3.0.1->kfp) (8.0.2)\n",
      "Requirement already satisfied: oauthlib>=3.0.0 in /usr/local/lib/python3.6/dist-packages (from requests-oauthlib->kubernetes<12.0.0,>=8.0.0->kfp) (3.1.0)\n",
      "Requirement already satisfied: wheel in /home/jovyan/.local/lib/python3.6/site-packages (from strip-hints->kfp) (0.36.2)\n"
     ]
    }
   ],
   "source": [
    "!pip3 install kfp --upgrade --user"
   ]
  },
  {
   "cell_type": "code",
   "execution_count": 3,
   "metadata": {},
   "outputs": [],
   "source": [
    "#Check if the install was successful\n",
    "!which dsl-compile"
   ]
  },
  {
   "cell_type": "code",
   "execution_count": 4,
   "metadata": {},
   "outputs": [],
   "source": [
    "# Import Kubeflow SDK\n",
    "import kfp\n",
    "import kfp.dsl as dsl\n",
    "import kfp.components as comp"
   ]
  },
  {
   "cell_type": "code",
   "execution_count": 5,
   "metadata": {},
   "outputs": [],
   "source": [
    "import os\n",
    "\n",
    "\n",
    "# where the outputs are stored\n",
    "out_dir = str(os.getcwd())\n",
    "model_file = 'modela'\n",
    "holdout = True"
   ]
  },
  {
   "cell_type": "code",
   "execution_count": 6,
   "metadata": {},
   "outputs": [
    {
     "data": {
      "text/plain": [
       "'/home/jovyan/Volve_ML/new pipeline'"
      ]
     },
     "execution_count": 6,
     "metadata": {},
     "output_type": "execute_result"
    }
   ],
   "source": [
    "os.getcwd()"
   ]
  },
  {
   "cell_type": "code",
   "execution_count": 7,
   "metadata": {},
   "outputs": [],
   "source": [
    "def train_tranform(data_path):\n",
    "    \n",
    "    import pickle\n",
    "    import sys, subprocess;\n",
    "    subprocess.run([sys.executable, '-m', 'pip', 'install', 'pandas'])\n",
    "    subprocess.run([sys.executable, '-m', 'pip', 'install', 'scikit-learn'])\n",
    "    subprocess.run([sys.executable, '-m', 'pip', 'install', 'ipython'])\n",
    "    \n",
    "    import numpy as np\n",
    "    import pandas as pd\n",
    "    from sklearn.preprocessing import PowerTransformer\n",
    "    \n",
    "    # Download the dataset and split into training and test data. \n",
    "    data = pd.read_csv(\"https://raw.githubusercontent.com/Josepholaidepetro/Volve_ML/main/data/train.csv\")\n",
    "    \n",
    "    # Preprocess\n",
    "    data.drop(['DEPTH', 'BS', 'RD', 'ROP', 'RM', 'DRHO'], axis=1, inplace=True)\n",
    "    \n",
    "    # If Nan, drop\n",
    "    data.dropna(inplace=True)\n",
    "    \n",
    "    # transform the RT to logarithmic\n",
    "    data['RT'] = np.log10(data['RT'])\n",
    "    \n",
    "    # perform a yeo-johnson transform of the train dataset\n",
    "    ptrain = PowerTransformer(method='yeo-johnson')\n",
    "    train_df_yj = ptrain.fit_transform(data.drop('DT', axis=1))\n",
    "    train_df_yj_norm = pd.DataFrame(train_df_yj, columns=data.columns.drop('DT'))\n",
    "    y_train = data['DT']\n",
    "    \n",
    "    #Save the train_data as a pickle file to be used by the predict component.\n",
    "    with open(f'{data_path}/train_tranform_data', 'wb') as f:\n",
    "        pickle.dump((train_df_yj_norm,  y_train), f)"
   ]
  },
  {
   "cell_type": "code",
   "execution_count": 8,
   "metadata": {},
   "outputs": [],
   "source": [
    "train_tranform(out_dir)"
   ]
  },
  {
   "cell_type": "code",
   "execution_count": 9,
   "metadata": {},
   "outputs": [],
   "source": [
    "def test_tranform(data_path):\n",
    "    \n",
    "    import pickle\n",
    "    import sys, subprocess;\n",
    "    subprocess.run([sys.executable, '-m', 'pip', 'install', 'pandas'])\n",
    "    subprocess.run([sys.executable, '-m', 'pip', 'install', 'scikit-learn'])\n",
    "    subprocess.run([sys.executable, '-m', 'pip', 'install', 'ipython'])\n",
    "    \n",
    "    import numpy as np\n",
    "    import pandas as pd\n",
    "    from sklearn.preprocessing import PowerTransformer\n",
    "    \n",
    "    # Download the dataset and split into training and test data. \n",
    "    data = pd.read_csv(\"https://raw.githubusercontent.com/Josepholaidepetro/Volve_ML/main/data/test.csv\")\n",
    "    \n",
    "    # Preprocess\n",
    "    data.drop(['DEPTH', 'BS', 'ROP', 'DRHO'], axis=1, inplace=True)\n",
    "    \n",
    "    # If Nan, drop\n",
    "    data.dropna(inplace=True)\n",
    "    \n",
    "    # transform the RT to logarithmic\n",
    "    data['RT'] = np.log10(data['RT'])\n",
    "    \n",
    "    # perform a yeo-johnson transform of the train dataset\n",
    "    ptest = PowerTransformer(method='yeo-johnson')\n",
    "    test_df_yj = ptest.fit_transform(data.drop('DT', axis=1))\n",
    "    test_df_yj_norm = pd.DataFrame(test_df_yj, columns=data.columns.drop('DT'))\n",
    "    y_test = data['DT']\n",
    "    \n",
    "    #Save the test_data as a pickle file to be used by the predict component.\n",
    "    with open(f'{data_path}/test_data', 'wb') as f:\n",
    "        pickle.dump((test_df_yj_norm,  y_test), f)"
   ]
  },
  {
   "cell_type": "code",
   "execution_count": 10,
   "metadata": {},
   "outputs": [
    {
     "name": "stderr",
     "output_type": "stream",
     "text": [
      "/home/jovyan/.local/lib/python3.6/site-packages/sklearn/preprocessing/_data.py:3234: RuntimeWarning: divide by zero encountered in log\n",
      "  loglike = -n_samples / 2 * np.log(x_trans.var())\n"
     ]
    }
   ],
   "source": [
    "test_tranform(out_dir)"
   ]
  },
  {
   "cell_type": "code",
   "execution_count": 11,
   "metadata": {},
   "outputs": [
    {
     "name": "stdout",
     "output_type": "stream",
     "text": [
      "['maven_analytics.ipynb', 'maven_new_kbflow.ipynb', 'Outlier_removal_train_valid', 'Outlier_removal_train_data', 'valid_tranform_train_data', 'holdout', 'dt_prediction_kubeflow.zip', '.ipynb_checkpoints', 'modela', 'test_data', 'valid_data', '...', 'train_tranform_data']\n"
     ]
    }
   ],
   "source": [
    "import os\n",
    "print(os.listdir())"
   ]
  },
  {
   "cell_type": "code",
   "execution_count": 12,
   "metadata": {},
   "outputs": [],
   "source": [
    "def Outlier_removal(data_path):\n",
    "    \n",
    "    import pickle\n",
    "    import sys, subprocess;\n",
    "    subprocess.run([sys.executable, '-m', 'pip', 'install', 'pandas'])\n",
    "    subprocess.run([sys.executable, '-m', 'pip', 'install', 'scikit-learn'])\n",
    "    subprocess.run([sys.executable, '-m', 'pip', 'install', 'ipython'])\n",
    "    \n",
    "    from sklearn.svm import OneClassSVM\n",
    "    import numpy as np\n",
    "    import pandas as pd\n",
    "    \n",
    "    # Load and unpack the train_data\n",
    "    with open(f'{data_path}/train_tranform_data','rb') as f:\n",
    "        train_data = pickle.load(f)\n",
    "    # Separate the train_df_yj_norm from y_train.\n",
    "    train_df_yj_norm,  y_train = train_data\n",
    "\n",
    "    # Method 4: One-class SVM\n",
    "    svm = OneClassSVM(nu=0.13)\n",
    "    yhat = svm.fit_predict(train_df_yj_norm)\n",
    "    mask = yhat != -1\n",
    "    train_df_svm = train_df_yj_norm[mask]\n",
    "    y_train_svm = y_train[mask]\n",
    "\n",
    "        \n",
    "    # prepare train data for modelling\n",
    "    X_train = train_df_svm.copy().drop(['label'], axis=1)\n",
    "    y_train = y_train_svm.copy()\n",
    "    \n",
    "    \n",
    "    #Save the train_data as a pickle file to be used by the predict component.\n",
    "    with open(f'{data_path}/Outlier_removal_train_data', 'wb') as f:\n",
    "        pickle.dump((X_train,  y_train), f)\n",
    "        \n",
    "    \n",
    "    #Save the train_data to be used for splitting as a pickle file to be used by the predict component.\n",
    "    with open(f'{data_path}/Outlier_removal_train_valid', 'wb') as f:\n",
    "        pickle.dump((train_df_svm.copy(), y_train_svm.copy()), f)\n",
    "    "
   ]
  },
  {
   "cell_type": "code",
   "execution_count": 13,
   "metadata": {},
   "outputs": [],
   "source": [
    "Outlier_removal(out_dir)"
   ]
  },
  {
   "cell_type": "code",
   "execution_count": 14,
   "metadata": {},
   "outputs": [],
   "source": [
    "def valid_tranform(data_path):\n",
    "    \n",
    "    import pickle\n",
    "    import sys, subprocess;\n",
    "    subprocess.run([sys.executable, '-m', 'pip', 'install', 'pandas'])\n",
    "    subprocess.run([sys.executable, '-m', 'pip', 'install', 'scikit-learn'])\n",
    "    subprocess.run([sys.executable, '-m', 'pip', 'install', 'ipython'])\n",
    "    \n",
    "    import numpy as np\n",
    "    import pandas as pd\n",
    "    from sklearn.preprocessing import PowerTransformer\n",
    "    \n",
    "    # Load and unpack the full Outlier_removal_train_valid\n",
    "    with open(f'{data_path}/Outlier_removal_train_valid','rb') as f:\n",
    "        X_train,  y_train= pickle.load(f)\n",
    "    train_split = pd.concat([X_train.reset_index(drop=True),  y_train.reset_index(drop=True)], axis=1)\n",
    "    \n",
    "    # Separate the data into X_train and y_train.\n",
    "    X_train2 = train_split[train_split['label'] < 0].drop(['label', 'DT'], axis=1)\n",
    "    y_train2 = train_split[train_split['label'] < 0]['DT']\n",
    "    \n",
    "    # Separate the data into X_valid and y_valid.\n",
    "    X_valid = train_split[train_split['label'] > 0].drop(['label', 'DT'], axis=1)\n",
    "    y_valid = train_split[train_split['label'] > 0]['DT']\n",
    "    \n",
    "    #Save the valid_data as a pickle file to be used by the predict component.\n",
    "    with open(f'{data_path}/valid_data', 'wb') as f:\n",
    "        pickle.dump((X_valid,  y_valid), f)\n",
    "        \n",
    "    #Save the train_data as a pickle file to be used by the predict component.\n",
    "    with open(f'{data_path}/valid_tranform_train_data', 'wb') as f:\n",
    "        pickle.dump((X_train2,  y_train2), f)"
   ]
  },
  {
   "cell_type": "code",
   "execution_count": 15,
   "metadata": {},
   "outputs": [],
   "source": [
    "valid_tranform(out_dir)"
   ]
  },
  {
   "cell_type": "code",
   "execution_count": 16,
   "metadata": {},
   "outputs": [],
   "source": [
    "def model_building(data_path, model_file, holdout):\n",
    "    \n",
    "    import pickle\n",
    "    import sys, subprocess;\n",
    "    subprocess.run([sys.executable, '-m', 'pip', 'install', 'pandas'])\n",
    "    subprocess.run([sys.executable, '-m', 'pip', 'install', 'scikit-learn'])\n",
    "    subprocess.run([sys.executable, '-m', 'pip', 'install', 'ipython'])\n",
    "    import numpy as np\n",
    "    import pandas as pd\n",
    "    import tensorflow as tf\n",
    "    from tensorflow import keras\n",
    "    \n",
    "    # Load and unpack the full Outlier_removal_train_data\n",
    "    with open(f'{data_path}/Outlier_removal_train_data','rb') as f:\n",
    "        Outlier_removal_train_data = pickle.load(f)\n",
    "    # Separate the X_train from y_train.\n",
    "    X_train,  y_train = Outlier_removal_train_data\n",
    "    \n",
    "    # Load and unpack the valid_tranform_train_data\n",
    "    with open(f'{data_path}/valid_tranform_train_data','rb') as f:\n",
    "        valid_tranform_train_data = pickle.load(f)\n",
    "    # Separate the X_train from y_train.\n",
    "    X_train_val,  y_train_val = valid_tranform_train_data\n",
    "    \n",
    "    # Load and unpack the valid_data\n",
    "    with open(f'{data_path}/valid_data','rb') as f:\n",
    "        valid_data = pickle.load(f)\n",
    "    # Separate the train_df_yj_norm from y_train.\n",
    "    X_valid,  y_valid = valid_data\n",
    "    \n",
    "    # Load and unpack the test_data\n",
    "    with open(f'{data_path}/test_data','rb') as f:\n",
    "        test_data = pickle.load(f)\n",
    "    # Separate the train_df_yj_norm from y_train.\n",
    "    X_test, y_test = test_data\n",
    "    \n",
    "    # Define the model using Keras\n",
    "    tf.random.set_seed(1)\n",
    "    model = keras.models.Sequential()\n",
    "    model.add(keras.layers.Dense(units =128, activation='relu', input_dim=X_train.shape[1]))\n",
    "    model.add(keras.layers.Dense(units =128, activation='relu'))\n",
    "    model.add(keras.layers.Dense(units =256, activation='relu'))\n",
    "    model.add(keras.layers.Dense(units =256, activation='relu'))\n",
    "    model.add(keras.layers.Dense(units =1, activation='linear'))\n",
    "\n",
    "    model.summary()\n",
    "\n",
    "    model.compile(optimizer = 'adam', loss='mean_squared_error')\n",
    "\n",
    "    \n",
    "    if holdout is False:\n",
    "        # Run a training job\n",
    "        model.fit(X_train, y_train, batch_size=20 , epochs=5 )\n",
    "    else:\n",
    "        # Run a training job\n",
    "        model.fit(X_train_val, y_train_val, batch_size=20 , epochs=20, validation_data=(X_valid, y_valid))\n",
    "        \n",
    "    model.save(f'{data_path}/{model_file}')\n",
    "\n",
    "    \n",
    "    #Save holdout\n",
    "    with open(f'{data_path}/holdout', 'wb') as f:\n",
    "        pickle.dump((holdout), f)"
   ]
  },
  {
   "cell_type": "code",
   "execution_count": 17,
   "metadata": {},
   "outputs": [
    {
     "name": "stdout",
     "output_type": "stream",
     "text": [
      "Model: \"sequential\"\n",
      "_________________________________________________________________\n",
      "Layer (type)                 Output Shape              Param #   \n",
      "=================================================================\n",
      "dense (Dense)                (None, 128)               1024      \n",
      "_________________________________________________________________\n",
      "dense_1 (Dense)              (None, 128)               16512     \n",
      "_________________________________________________________________\n",
      "dense_2 (Dense)              (None, 256)               33024     \n",
      "_________________________________________________________________\n",
      "dense_3 (Dense)              (None, 256)               65792     \n",
      "_________________________________________________________________\n",
      "dense_4 (Dense)              (None, 1)                 257       \n",
      "=================================================================\n",
      "Total params: 116,609\n",
      "Trainable params: 116,609\n",
      "Non-trainable params: 0\n",
      "_________________________________________________________________\n",
      "Epoch 1/20\n",
      "448/448 [==============================] - 3s 5ms/step - loss: 1104.4002 - val_loss: 99.7906\n",
      "Epoch 2/20\n",
      "448/448 [==============================] - 1s 3ms/step - loss: 24.3513 - val_loss: 56.2135\n",
      "Epoch 3/20\n",
      "448/448 [==============================] - 1s 3ms/step - loss: 14.9508 - val_loss: 56.0218\n",
      "Epoch 4/20\n",
      "448/448 [==============================] - 1s 3ms/step - loss: 13.8794 - val_loss: 36.2231\n",
      "Epoch 5/20\n",
      "448/448 [==============================] - 1s 3ms/step - loss: 13.2835 - val_loss: 35.8123\n",
      "Epoch 6/20\n",
      "448/448 [==============================] - 1s 3ms/step - loss: 16.0545 - val_loss: 33.4594\n",
      "Epoch 7/20\n",
      "448/448 [==============================] - 1s 3ms/step - loss: 13.7051 - val_loss: 28.7123\n",
      "Epoch 8/20\n",
      "448/448 [==============================] - 1s 3ms/step - loss: 14.6252 - val_loss: 26.4951\n",
      "Epoch 9/20\n",
      "448/448 [==============================] - 1s 3ms/step - loss: 14.7635 - val_loss: 20.1643\n",
      "Epoch 10/20\n",
      "448/448 [==============================] - 1s 3ms/step - loss: 13.7013 - val_loss: 31.8428\n",
      "Epoch 11/20\n",
      "448/448 [==============================] - 1s 3ms/step - loss: 12.5916 - val_loss: 35.9326\n",
      "Epoch 12/20\n",
      "448/448 [==============================] - 1s 3ms/step - loss: 13.2906 - val_loss: 23.7062\n",
      "Epoch 13/20\n",
      "448/448 [==============================] - 1s 3ms/step - loss: 13.7432 - val_loss: 25.6978\n",
      "Epoch 14/20\n",
      "448/448 [==============================] - 1s 3ms/step - loss: 13.0923 - val_loss: 21.7264\n",
      "Epoch 15/20\n",
      "448/448 [==============================] - 1s 3ms/step - loss: 12.7420 - val_loss: 22.2900\n",
      "Epoch 16/20\n",
      "448/448 [==============================] - 1s 3ms/step - loss: 12.3571 - val_loss: 29.7708\n",
      "Epoch 17/20\n",
      "448/448 [==============================] - 1s 3ms/step - loss: 12.2719 - val_loss: 17.2406\n",
      "Epoch 18/20\n",
      "448/448 [==============================] - 1s 3ms/step - loss: 12.5491 - val_loss: 22.7586\n",
      "Epoch 19/20\n",
      "448/448 [==============================] - 1s 3ms/step - loss: 13.9136 - val_loss: 27.0998\n",
      "Epoch 20/20\n",
      "448/448 [==============================] - 1s 3ms/step - loss: 12.1416 - val_loss: 19.7540\n",
      "INFO:tensorflow:Assets written to: /home/jovyan/Volve_ML/new pipeline/modela/assets\n"
     ]
    }
   ],
   "source": [
    "regressor = model_building(out_dir, model_file, holdout)"
   ]
  },
  {
   "cell_type": "code",
   "execution_count": 18,
   "metadata": {},
   "outputs": [],
   "source": [
    "def model_evaluate(data_path, model_file, holdout):\n",
    "    \n",
    "    import pickle\n",
    "    import sys, subprocess;\n",
    "    subprocess.run([sys.executable, '-m', 'pip', 'install', 'pandas'])\n",
    "    subprocess.run([sys.executable, '-m', 'pip', 'install', 'scikit-learn'])\n",
    "    subprocess.run([sys.executable, '-m', 'pip', 'install', 'ipython'])\n",
    "    import numpy as np\n",
    "    import pandas as pd\n",
    "    import tensorflow as tf\n",
    "    from tensorflow import keras\n",
    "    \n",
    "    # Load the saved model\n",
    "    model = keras.models.load_model(f'{data_path}/{model_file}')\n",
    "\n",
    "    # Load and unpack the test_data\n",
    "    with open(f'{data_path}/test_data','rb') as f:\n",
    "        test_data = pickle.load(f)\n",
    "    # Separate the X_test from y_test.\n",
    "    X_test, y_test = test_data\n",
    "    \n",
    "    \n",
    "    # Load and unpack the valid_data\n",
    "    with open(f'{data_path}/valid_data','rb') as f:\n",
    "        valid_data = pickle.load(f)\n",
    "    # Separate the train_df_yj_norm from y_train.\n",
    "    X_valid,  y_valid = valid_data\n",
    "    \n",
    "    if holdout is False:\n",
    "        #Evaluate the model and print the results\n",
    "        score = model.evaluate(X_test, y_test, verbose=0)\n",
    "        print(\"mse of Well 3: {}\".format(score))\n",
    "    else:\n",
    "        score = model.evaluate(X_valid,y_valid, verbose=0)\n",
    "        print(\"mse of Well 3: {}\".format(score))\n"
   ]
  },
  {
   "cell_type": "code",
   "execution_count": 19,
   "metadata": {},
   "outputs": [
    {
     "name": "stdout",
     "output_type": "stream",
     "text": [
      "mse of Well 3: 19.754016876220703\n"
     ]
    }
   ],
   "source": [
    "model_evaluate(out_dir, model_file, holdout)"
   ]
  },
  {
   "cell_type": "code",
   "execution_count": 20,
   "metadata": {},
   "outputs": [],
   "source": [
    "def predict(data_path, model_file):\n",
    "    \n",
    "    import pickle\n",
    "    import sys, subprocess;\n",
    "    subprocess.run([sys.executable, '-m', 'pip', 'install', 'pandas'])\n",
    "    subprocess.run([sys.executable, '-m', 'pip', 'install', 'scikit-learn'])\n",
    "    import numpy as np\n",
    "    import pandas as pd\n",
    "    import tensorflow as tf\n",
    "    from tensorflow import keras\n",
    "    \n",
    "    # Load the saved model\n",
    "    regressor = keras.models.load_model(f'{data_path}/{model_file}')\n",
    "    \n",
    "    # Load and unpack the test_data\n",
    "    with open(f'{data_path}/test_data','rb') as f:\n",
    "        test_data = pickle.load(f)\n",
    "    # Separate the X_test from y_test.\n",
    "    test_df_yj_norm,  y_test = test_data\n",
    "\n",
    "    # make predictions.\n",
    "    y_pred = regressor.predict(test_df_yj_norm)\n",
    "\n",
    "    \n",
    "    with open(f'{data_path}/result1', 'wb') as f:\n",
    "        pickle.dump(y_pred, f)\n",
    "        \n",
    "    with open(f'{data_path}/result.txt', 'w') as result:\n",
    "        result.write(\" Prediction: {}, Actual: {} \".format(y_pred,y_test))\n",
    "    \n",
    "    print('Prediction has be saved successfully!')"
   ]
  },
  {
   "cell_type": "code",
   "execution_count": 21,
   "metadata": {},
   "outputs": [],
   "source": [
    "# Create train and predict lightweight components.\n",
    "train_tranform_op = comp.func_to_container_op(train_tranform , base_image = \"tensorflow/tensorflow:latest-gpu-py3\")\n",
    "test_tranform_op = comp.func_to_container_op(test_tranform , base_image = \"tensorflow/tensorflow:latest-gpu-py3\")\n",
    "Outlier_removal_op = comp.func_to_container_op(Outlier_removal , base_image = \"tensorflow/tensorflow:latest-gpu-py3\")\n",
    "valid_tranform_op = comp.func_to_container_op(valid_tranform , base_image = \"tensorflow/tensorflow:latest-gpu-py3\")\n",
    "train_op = comp.func_to_container_op(model_building , base_image = \"tensorflow/tensorflow:latest-gpu-py3\")\n",
    "valid_op = comp.func_to_container_op(model_evaluate , base_image = \"tensorflow/tensorflow:latest-gpu-py3\")\n",
    "predict_op = comp.func_to_container_op(predict , base_image = \"tensorflow/tensorflow:latest-gpu-py3\")"
   ]
  },
  {
   "cell_type": "markdown",
   "metadata": {},
   "source": [
    "## Build Kubeflow Pipeline"
   ]
  },
  {
   "cell_type": "code",
   "execution_count": 22,
   "metadata": {},
   "outputs": [],
   "source": [
    "#Create a client to enable communication with the Pipelines API server.\n",
    "client = kfp.Client()"
   ]
  },
  {
   "cell_type": "code",
   "execution_count": 23,
   "metadata": {},
   "outputs": [],
   "source": [
    "# Define the pipeline\n",
    "@dsl.pipeline(\n",
    "   name='Sonic Log Prediction Pipeline',\n",
    "   description='An ML pipeline that performs Sonic Log Prediction prediction.'\n",
    ")\n",
    "\n",
    "# Define parameters to be fed into pipeline\n",
    "def sonic_container_pipeline(\n",
    "    data_path: str,\n",
    "    holdout: bool,\n",
    "    model_file: str\n",
    "    ):\n",
    "    \n",
    "    # Define volume to share data between components.\n",
    "    vop = dsl.VolumeOp(\n",
    "    name=\"create_volume\",\n",
    "    resource_name=\"data-volume\", \n",
    "    size=\"1Gi\", \n",
    "    modes=dsl.VOLUME_MODE_RWO) # read write one\n",
    "    \n",
    "    # Create deploy component.\n",
    "    train_tranform_container = train_tranform_op(data_path) \\\n",
    "                                    .add_pvolumes({data_path: vop.volume})\n",
    "\n",
    "    # Create data transformation component.\n",
    "    test_tranform_container = test_tranform_op(data_path) \\\n",
    "                                    .add_pvolumes({data_path: train_tranform_container.pvolume})\n",
    "    \n",
    "    # Create data transformation component.\n",
    "    Outlier_removal_container = Outlier_removal_op(data_path) \\\n",
    "                                    .add_pvolumes({data_path: test_tranform_container.pvolume})\n",
    "    \n",
    "    # Create data transformation component.\n",
    "    valid_tranform_container = valid_tranform_op(data_path) \\\n",
    "                                    .add_pvolumes({data_path: Outlier_removal_container.pvolume})\n",
    "    \n",
    "    # Create model training component.\n",
    "    train_container = train_op(data_path, model_file, holdout) \\\n",
    "                                    .add_pvolumes({data_path: valid_tranform_container.pvolume})\n",
    "    \n",
    "    # Create model validation component.\n",
    "    valid_container = valid_op(data_path, model_file, holdout) \\\n",
    "                                    .add_pvolumes({data_path: train_container.pvolume})\n",
    "    \n",
    "    # Create model training component.\n",
    "    predict_container = predict_op(data_path, model_file) \\\n",
    "                                    .add_pvolumes({data_path: valid_container.pvolume})\n",
    "    \n",
    "    \n",
    "    # Print the result of the prediction\n",
    "    churn_result_container = dsl.ContainerOp(\n",
    "        name=\"print_prediction\",\n",
    "        image='library/bash:4.4.23', # Image tag for the Docker container to be used.\n",
    "        pvolumes={data_path: predict_container.pvolume}, # the name displayed for the component execution during runtime.\n",
    "        arguments=['cat', f'{data_path}/result.txt']\n",
    "    )"
   ]
  },
  {
   "cell_type": "markdown",
   "metadata": {},
   "source": [
    "## Run the Pipeline"
   ]
  },
  {
   "cell_type": "code",
   "execution_count": 24,
   "metadata": {},
   "outputs": [],
   "source": [
    "pipeline_func = sonic_container_pipeline"
   ]
  },
  {
   "cell_type": "code",
   "execution_count": 25,
   "metadata": {},
   "outputs": [],
   "source": [
    "DATA_PATH = out_dir # mount your filesystems or directory\n",
    "MODEL_PATH = 'model_file'"
   ]
  },
  {
   "cell_type": "code",
   "execution_count": 26,
   "metadata": {},
   "outputs": [
    {
     "name": "stderr",
     "output_type": "stream",
     "text": [
      "/home/jovyan/.local/lib/python3.6/site-packages/kfp/dsl/_container_op.py:1039: FutureWarning: Please create reusable components instead of constructing ContainerOp instances directly. Reusable components are shareable, portable and have compatibility and support guarantees. Please see the documentation: https://www.kubeflow.org/docs/pipelines/sdk/component-development/#writing-your-component-definition-file The components can be created manually (or, in case of python, using kfp.components.create_component_from_func or func_to_container_op) and then loaded using kfp.components.load_component_from_file, load_component_from_uri or load_component_from_text: https://kubeflow-pipelines.readthedocs.io/en/stable/source/kfp.components.html#kfp.components.load_component_from_file\n",
      "  category=FutureWarning,\n"
     ]
    },
    {
     "data": {
      "text/html": [
       "<a href=\"/pipeline/#/experiments/details/0a62e151-f13e-4953-99ef-73a17679f263\" target=\"_blank\" >Experiment details</a>."
      ],
      "text/plain": [
       "<IPython.core.display.HTML object>"
      ]
     },
     "metadata": {},
     "output_type": "display_data"
    },
    {
     "data": {
      "text/html": [
       "<a href=\"/pipeline/#/runs/details/655459c8-0b5d-477c-b61d-56736bd09a8f\" target=\"_blank\" >Run details</a>."
      ],
      "text/plain": [
       "<IPython.core.display.HTML object>"
      ]
     },
     "metadata": {},
     "output_type": "display_data"
    }
   ],
   "source": [
    "experiment_name = 'dt_prediction_kubeflow'\n",
    "run_name = pipeline_func.__name__ + ' run'\n",
    "\n",
    "arguments = {\"data_path\":DATA_PATH,\n",
    "            \"holdout\":holdout,\n",
    "            \"model_file\":MODEL_PATH}\n",
    "\n",
    "# Compile pipeline to generate compressed YAML definition of the pipeline.\n",
    "kfp.compiler.Compiler().compile(pipeline_func, '{}.zip'.format(experiment_name))\n",
    "\n",
    "# Submit pipeline directly from pipeline function\n",
    "run_result = client.create_run_from_pipeline_func(pipeline_func, \n",
    "                                                  experiment_name=experiment_name, \n",
    "                                                  run_name=run_name, \n",
    "                                                  arguments=arguments)"
   ]
  },
  {
   "cell_type": "markdown",
   "metadata": {},
   "source": [
    "http://localhost:8888/pipeline#/experiments/details/644a33c5-3114-4b3c-b6de-3b0b6467eafa\n",
    "\n",
    "http://localhost:8888/pipeline#/runs/details/2aadb518-ead4-4035-90ea-011a44bfe16d"
   ]
  }
 ],
 "metadata": {
  "kernelspec": {
   "display_name": "Python 3",
   "language": "python",
   "name": "python3"
  },
  "language_info": {
   "codemirror_mode": {
    "name": "ipython",
    "version": 3
   },
   "file_extension": ".py",
   "mimetype": "text/x-python",
   "name": "python",
   "nbconvert_exporter": "python",
   "pygments_lexer": "ipython3",
   "version": "3.6.9"
  }
 },
 "nbformat": 4,
 "nbformat_minor": 4
}
